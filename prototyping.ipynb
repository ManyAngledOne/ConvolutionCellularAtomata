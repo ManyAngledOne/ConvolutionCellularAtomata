{
 "cells": [
  {
   "cell_type": "code",
   "execution_count": 1,
   "metadata": {
    "collapsed": true
   },
   "outputs": [],
   "source": [
    "import numpy as np\n",
    "from scipy.signal import convolve2d\n",
    "from scipy.signal import fftconvolve\n",
    "\n",
    "from matplotlib import pyplot as plt\n",
    "import matplotlib.animation as animation"
   ]
  },
  {
   "cell_type": "code",
   "execution_count": 2,
   "metadata": {
    "collapsed": false
   },
   "outputs": [],
   "source": [
    "class CARule():\n",
    "    def __init__(self, kernel, alivecond, deadcond):\n",
    "        # kernel: convolution kernel\n",
    "        # alivecond: condition on the convolution which determines if a living cell remains alive\n",
    "        # deadcond: condition on the convolution which determines if dead cell comes to life\n",
    "        self.kernel = kernel\n",
    "        self.cond = np.vectorize(lambda conv,state: (state and alivecond(conv)) or (not state and deadcond(conv)), otypes=[np.int])\n",
    "\n",
    "class CAState():\n",
    "    def __init__(self, init_state, rule):\n",
    "        self.state = init_state\n",
    "        self.rule = rule\n",
    "        \n",
    "    def evolve(self):\n",
    "        yield self.state\n",
    "        while True:\n",
    "            self.state = self.rule.cond(convolve2d(self.state, self.rule.kernel, mode='same'), self.state)\n",
    "            yield self.state"
   ]
  },
  {
   "cell_type": "code",
   "execution_count": 3,
   "metadata": {
    "collapsed": false
   },
   "outputs": [],
   "source": [
    "conway = CARule([[1,1,1],[1,0,1],[1,1,1]], lambda x: x==2 or x==3, lambda x: x==3)\n",
    "init = np.random.choice((0,1), (100,100))\n",
    "s = CAState(init, conway)\n",
    "gen = s.evolve()\n",
    "\n",
    "fig = plt.figure()\n",
    "\n",
    "im = plt.imshow(gen.__next__(), interpolation='nearest', animated=True, cmap='afmhot')\n",
    "\n",
    "def updatefig(*args):\n",
    "    im.set_array(gen.__next__())\n",
    "    return im,\n",
    "\n",
    "ani = animation.FuncAnimation(fig, updatefig, interval=10, blit=True)\n",
    "\n",
    "plt.show()"
   ]
  },
  {
   "cell_type": "code",
   "execution_count": 87,
   "metadata": {
    "collapsed": false
   },
   "outputs": [],
   "source": [
    "triangles = CARule([[1,1,1],[1,0,1],[1,1,1]], lambda x: x==1 or x==2, lambda x: x==1)\n",
    "#init = np.random.choice((0,1), (100,100))\n",
    "size = 1001\n",
    "init = np.zeros((size,size))\n",
    "centx, centy = init.shape[0]//2, init.shape[1]//2\n",
    "init[centx,centy] = 1\n",
    "s = CAState(init, triangles)\n",
    "gen = s.evolve()\n",
    "\n",
    "fig = plt.figure()\n",
    "fig.set_size_inches(10,10)\n",
    "\n",
    "im = plt.imshow(gen.__next__(), interpolation='nearest', animated=True, cmap='afmhot')\n",
    "\n",
    "def updatefig(*args):\n",
    "    im.set_array(gen.__next__())\n",
    "    return im,\n",
    "\n",
    "ani = animation.FuncAnimation(fig, updatefig, interval=50, blit=True, repeat=False, frames=700)\n",
    "\n",
    "dpi = 300\n",
    "\n",
    "Writer = animation.writers['ffmpeg']\n",
    "writer = Writer(fps=30, metadata=dict(artist='Alessandro'))\n",
    "\n",
    "ani.save('im_wrap.mp4', writer=writer, dpi=dpi)\n",
    "\n",
    "#plt.show()"
   ]
  },
  {
   "cell_type": "code",
   "execution_count": 82,
   "metadata": {
    "collapsed": false
   },
   "outputs": [
    {
     "data": {
      "text/plain": [
       "<matplotlib.image.AxesImage at 0x9fdd1aec>"
      ]
     },
     "execution_count": 82,
     "metadata": {},
     "output_type": "execute_result"
    }
   ],
   "source": [
    "plt.imshow(gen.__next__(), interpolation='nearest', cmap='afmhot')"
   ]
  },
  {
   "cell_type": "code",
   "execution_count": 85,
   "metadata": {
    "collapsed": true
   },
   "outputs": [],
   "source": [
    "fig = plt.figure()\n",
    "fig.set_size_inches(10,10)\n",
    "plt.imshow(gen.__next__(), interpolation='nearest', cmap='afmhot')\n",
    "plt.savefig('triangles1000.png', dpi = 600)"
   ]
  },
  {
   "cell_type": "code",
   "execution_count": 95,
   "metadata": {
    "collapsed": true
   },
   "outputs": [],
   "source": [
    "class CARule():\n",
    "    def __init__(self, kernel, alivecond, deadcond):\n",
    "        # kernel: convolution kernel\n",
    "        # alivecond: condition on the convolution which determines if a living cell remains alive\n",
    "        # deadcond: condition on the convolution which determines if dead cell comes to life\n",
    "        self.kernel = kernel\n",
    "        self.cond = np.vectorize(lambda conv,state: (state and alivecond(conv)) or (not state and deadcond(conv)), otypes=[np.int])\n",
    "\n",
    "class CAState():\n",
    "    def __init__(self, init_state, rule):\n",
    "        self.state = init_state\n",
    "        self.rule = rule\n",
    "        \n",
    "    def evolve(self):\n",
    "        yield self.state\n",
    "        while True:\n",
    "            self.state = self.rule.cond(fftconvolve(self.state, self.rule.kernel, mode='same'), self.state)\n",
    "            yield self.state"
   ]
  },
  {
   "cell_type": "code",
   "execution_count": 101,
   "metadata": {
    "collapsed": true
   },
   "outputs": [],
   "source": [
    "conway = CARule([[1,1,1],[1,0,1],[1,1,1]], lambda x: 1.6<x<3.4, lambda x: 2.6<x<3.4)\n",
    "init = np.random.choice((0,1), (128,128))\n",
    "s = CAState(init, conway)\n",
    "gen = s.evolve()\n",
    "\n",
    "fig = plt.figure()\n",
    "\n",
    "im = plt.imshow(gen.__next__(), interpolation='nearest', animated=True, cmap='afmhot')\n",
    "\n",
    "def updatefig(*args):\n",
    "    im.set_array(gen.__next__())\n",
    "    return im,\n",
    "\n",
    "ani = animation.FuncAnimation(fig, updatefig, interval=50, blit=True)\n",
    "\n",
    "plt.show()"
   ]
  },
  {
   "cell_type": "code",
   "execution_count": 125,
   "metadata": {
    "collapsed": true
   },
   "outputs": [],
   "source": [
    "kernel3d = [[[1,1,1], [1,1,1], [1,1,1]], [[1,1,1], [1,0,1], [1,1,1]], [[1,1,1], [1,1,1], [1,1,1]]]\n",
    "conway3d = CARule(kernel3d, lambda x: 3.6<x<4.4, lambda x: 3.6<x<4.4 or 7.6<x<8.4 )\n",
    "init3d = np.random.choice((0,1), [32]*3)\n",
    "s3d = CAState(init3d, conway3d)\n",
    "gen3d = s3d.evolve()"
   ]
  },
  {
   "cell_type": "code",
   "execution_count": 137,
   "metadata": {
    "collapsed": false
   },
   "outputs": [
    {
     "data": {
      "text/plain": [
       "array([[[0, 0, 0, ..., 0, 0, 0],\n",
       "        [0, 0, 0, ..., 0, 0, 0],\n",
       "        [0, 0, 0, ..., 1, 0, 1],\n",
       "        ..., \n",
       "        [0, 0, 0, ..., 0, 0, 0],\n",
       "        [0, 0, 0, ..., 0, 0, 0],\n",
       "        [0, 0, 0, ..., 0, 0, 0]],\n",
       "\n",
       "       [[0, 0, 0, ..., 0, 0, 0],\n",
       "        [0, 0, 0, ..., 1, 1, 0],\n",
       "        [0, 0, 0, ..., 0, 0, 0],\n",
       "        ..., \n",
       "        [0, 0, 0, ..., 0, 0, 0],\n",
       "        [0, 0, 0, ..., 0, 0, 0],\n",
       "        [0, 0, 0, ..., 0, 0, 0]],\n",
       "\n",
       "       [[0, 0, 0, ..., 0, 0, 0],\n",
       "        [0, 0, 0, ..., 1, 1, 0],\n",
       "        [0, 0, 0, ..., 0, 0, 0],\n",
       "        ..., \n",
       "        [0, 0, 0, ..., 0, 0, 0],\n",
       "        [0, 0, 0, ..., 0, 0, 0],\n",
       "        [0, 0, 0, ..., 0, 0, 0]],\n",
       "\n",
       "       ..., \n",
       "       [[0, 0, 0, ..., 0, 0, 0],\n",
       "        [0, 0, 0, ..., 0, 0, 0],\n",
       "        [0, 0, 0, ..., 0, 0, 0],\n",
       "        ..., \n",
       "        [1, 0, 1, ..., 0, 1, 0],\n",
       "        [0, 0, 0, ..., 0, 0, 0],\n",
       "        [0, 0, 0, ..., 0, 0, 0]],\n",
       "\n",
       "       [[0, 0, 0, ..., 0, 0, 0],\n",
       "        [0, 0, 0, ..., 0, 0, 0],\n",
       "        [0, 0, 0, ..., 0, 0, 0],\n",
       "        ..., \n",
       "        [0, 0, 0, ..., 0, 0, 0],\n",
       "        [0, 0, 0, ..., 0, 0, 0],\n",
       "        [0, 0, 0, ..., 0, 0, 0]],\n",
       "\n",
       "       [[0, 0, 0, ..., 0, 0, 0],\n",
       "        [0, 0, 0, ..., 0, 0, 0],\n",
       "        [0, 0, 0, ..., 0, 0, 0],\n",
       "        ..., \n",
       "        [0, 0, 0, ..., 0, 0, 0],\n",
       "        [0, 1, 0, ..., 0, 0, 0],\n",
       "        [0, 0, 0, ..., 0, 0, 0]]])"
      ]
     },
     "execution_count": 137,
     "metadata": {},
     "output_type": "execute_result"
    }
   ],
   "source": [
    "gen3d.__next__()"
   ]
  },
  {
   "cell_type": "code",
   "execution_count": 4,
   "metadata": {
    "collapsed": false
   },
   "outputs": [
    {
     "ename": "ImportError",
     "evalue": "No module named 'mayavi'",
     "output_type": "error",
     "traceback": [
      "\u001b[1;31m---------------------------------------------------------------------------\u001b[0m",
      "\u001b[1;31mImportError\u001b[0m                               Traceback (most recent call last)",
      "\u001b[1;32m<ipython-input-4-3f0e4b94a8ea>\u001b[0m in \u001b[0;36m<module>\u001b[1;34m()\u001b[0m\n\u001b[1;32m----> 1\u001b[1;33m \u001b[1;32mfrom\u001b[0m \u001b[0mmayavi\u001b[0m \u001b[1;32mimport\u001b[0m \u001b[0mmlab\u001b[0m\u001b[1;33m\u001b[0m\u001b[0m\n\u001b[0m",
      "\u001b[1;31mImportError\u001b[0m: No module named 'mayavi'"
     ]
    }
   ],
   "source": [
    "from mayavi import mlab"
   ]
  },
  {
   "cell_type": "code",
   "execution_count": 138,
   "metadata": {
    "collapsed": false
   },
   "outputs": [],
   "source": [
    "import numpy as np\n",
    "x, y, z = np.ogrid[-10:10:20j, -10:10:20j, -10:10:20j]\n",
    "s = np.sin(x*y*z)/(x*y*z)"
   ]
  },
  {
   "cell_type": "code",
   "execution_count": null,
   "metadata": {
    "collapsed": true
   },
   "outputs": [],
   "source": [
    "mlab.contour3d(s)"
   ]
  },
  {
   "cell_type": "code",
   "execution_count": null,
   "metadata": {
    "collapsed": true
   },
   "outputs": [],
   "source": [
    "mlab.pipeline.volume(mlab.pipeline.scalar_field(s))"
   ]
  }
 ],
 "metadata": {
  "kernelspec": {
   "display_name": "Python 3",
   "language": "python",
   "name": "python3"
  },
  "language_info": {
   "codemirror_mode": {
    "name": "ipython",
    "version": 3
   },
   "file_extension": ".py",
   "mimetype": "text/x-python",
   "name": "python",
   "nbconvert_exporter": "python",
   "pygments_lexer": "ipython3",
   "version": "3.5.1"
  }
 },
 "nbformat": 4,
 "nbformat_minor": 0
}
